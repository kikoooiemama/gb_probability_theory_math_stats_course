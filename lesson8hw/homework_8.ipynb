{
 "cells": [
  {
   "cell_type": "markdown",
   "id": "076096ff",
   "metadata": {},
   "source": [
    "# Практическое задание №8 по теме \"Дисперсионный анализ. Метод главных компонент. Логистическая регрессия\"."
   ]
  },
  {
   "cell_type": "code",
   "execution_count": 1,
   "id": "c2b2f9d0",
   "metadata": {},
   "outputs": [],
   "source": [
    "import numpy as np\n",
    "import pandas as pd\n",
    "from scipy import stats\n",
    "from warnings import filterwarnings\n",
    "\n",
    "filterwarnings(\"ignore\")"
   ]
  },
  {
   "cell_type": "markdown",
   "id": "45c1a265",
   "metadata": {},
   "source": [
    "## Задание 1\n",
    "\n",
    "Используя данные о хоккеистах, проверьте, является ли среди хоккеистов из Финляндии, Норвегии и Дании значимым отличие: \n",
    "* а) роста, \n",
    "* б) BMI."
   ]
  },
  {
   "cell_type": "markdown",
   "id": "b519ba0b",
   "metadata": {},
   "source": [
    "___Решение___"
   ]
  },
  {
   "cell_type": "markdown",
   "id": "994ff0d8",
   "metadata": {},
   "source": [
    "Рассмотрим информацию о датасете хоккеистов."
   ]
  },
  {
   "cell_type": "code",
   "execution_count": 2,
   "id": "1db56c0d",
   "metadata": {
    "scrolled": false
   },
   "outputs": [
    {
     "data": {
      "text/html": [
       "<div>\n",
       "<style scoped>\n",
       "    .dataframe tbody tr th:only-of-type {\n",
       "        vertical-align: middle;\n",
       "    }\n",
       "\n",
       "    .dataframe tbody tr th {\n",
       "        vertical-align: top;\n",
       "    }\n",
       "\n",
       "    .dataframe thead th {\n",
       "        text-align: right;\n",
       "    }\n",
       "</style>\n",
       "<table border=\"1\" class=\"dataframe\">\n",
       "  <thead>\n",
       "    <tr style=\"text-align: right;\">\n",
       "      <th></th>\n",
       "      <th>year</th>\n",
       "      <th>country</th>\n",
       "      <th>no</th>\n",
       "      <th>name</th>\n",
       "      <th>position</th>\n",
       "      <th>side</th>\n",
       "      <th>height</th>\n",
       "      <th>weight</th>\n",
       "      <th>birth</th>\n",
       "      <th>club</th>\n",
       "      <th>age</th>\n",
       "      <th>cohort</th>\n",
       "      <th>bmi</th>\n",
       "    </tr>\n",
       "  </thead>\n",
       "  <tbody>\n",
       "    <tr>\n",
       "      <th>0</th>\n",
       "      <td>2001</td>\n",
       "      <td>RUS</td>\n",
       "      <td>10</td>\n",
       "      <td>tverdovsky oleg</td>\n",
       "      <td>D</td>\n",
       "      <td>L</td>\n",
       "      <td>185</td>\n",
       "      <td>84.0</td>\n",
       "      <td>1976-05-18</td>\n",
       "      <td>anaheim mighty ducks</td>\n",
       "      <td>24.952772</td>\n",
       "      <td>1976</td>\n",
       "      <td>24.543462</td>\n",
       "    </tr>\n",
       "    <tr>\n",
       "      <th>1</th>\n",
       "      <td>2001</td>\n",
       "      <td>RUS</td>\n",
       "      <td>2</td>\n",
       "      <td>vichnevsky vitali</td>\n",
       "      <td>D</td>\n",
       "      <td>L</td>\n",
       "      <td>188</td>\n",
       "      <td>86.0</td>\n",
       "      <td>1980-03-18</td>\n",
       "      <td>anaheim mighty ducks</td>\n",
       "      <td>21.119781</td>\n",
       "      <td>1980</td>\n",
       "      <td>24.332277</td>\n",
       "    </tr>\n",
       "    <tr>\n",
       "      <th>2</th>\n",
       "      <td>2001</td>\n",
       "      <td>RUS</td>\n",
       "      <td>26</td>\n",
       "      <td>petrochinin evgeni</td>\n",
       "      <td>D</td>\n",
       "      <td>L</td>\n",
       "      <td>182</td>\n",
       "      <td>95.0</td>\n",
       "      <td>1976-02-07</td>\n",
       "      <td>severstal cherepovetal</td>\n",
       "      <td>25.229295</td>\n",
       "      <td>1976</td>\n",
       "      <td>28.680111</td>\n",
       "    </tr>\n",
       "    <tr>\n",
       "      <th>3</th>\n",
       "      <td>2001</td>\n",
       "      <td>RUS</td>\n",
       "      <td>28</td>\n",
       "      <td>zhdan alexander</td>\n",
       "      <td>D</td>\n",
       "      <td>R</td>\n",
       "      <td>178</td>\n",
       "      <td>85.0</td>\n",
       "      <td>1971-08-28</td>\n",
       "      <td>ak bars kazan</td>\n",
       "      <td>29.675565</td>\n",
       "      <td>1971</td>\n",
       "      <td>26.827421</td>\n",
       "    </tr>\n",
       "    <tr>\n",
       "      <th>4</th>\n",
       "      <td>2001</td>\n",
       "      <td>RUS</td>\n",
       "      <td>32</td>\n",
       "      <td>orekhovsky oleg</td>\n",
       "      <td>D</td>\n",
       "      <td>R</td>\n",
       "      <td>175</td>\n",
       "      <td>88.0</td>\n",
       "      <td>1977-11-03</td>\n",
       "      <td>dynamo moscow</td>\n",
       "      <td>23.490760</td>\n",
       "      <td>1977</td>\n",
       "      <td>28.734694</td>\n",
       "    </tr>\n",
       "  </tbody>\n",
       "</table>\n",
       "</div>"
      ],
      "text/plain": [
       "   year country  no                 name position side  height  weight  \\\n",
       "0  2001     RUS  10     tverdovsky oleg         D    L     185    84.0   \n",
       "1  2001     RUS   2   vichnevsky vitali         D    L     188    86.0   \n",
       "2  2001     RUS  26  petrochinin evgeni         D    L     182    95.0   \n",
       "3  2001     RUS  28     zhdan alexander         D    R     178    85.0   \n",
       "4  2001     RUS  32     orekhovsky oleg         D    R     175    88.0   \n",
       "\n",
       "        birth                     club        age  cohort        bmi  \n",
       "0  1976-05-18    anaheim mighty ducks   24.952772    1976  24.543462  \n",
       "1  1980-03-18    anaheim mighty ducks   21.119781    1980  24.332277  \n",
       "2  1976-02-07  severstal cherepovetal   25.229295    1976  28.680111  \n",
       "3  1971-08-28           ak bars kazan   29.675565    1971  26.827421  \n",
       "4  1977-11-03           dynamo moscow   23.490760    1977  28.734694  "
      ]
     },
     "execution_count": 2,
     "metadata": {},
     "output_type": "execute_result"
    }
   ],
   "source": [
    "hockey_df = pd.read_csv('hockey_players.csv', encoding='ISO-8859-1')\n",
    "hockey_df.head()"
   ]
  },
  {
   "cell_type": "markdown",
   "id": "8311ea51",
   "metadata": {},
   "source": [
    "Избавляемся от дубликатов и лишних признаков, оставляем только хоккеистов из Финляндии, Норвегии и Дании."
   ]
  },
  {
   "cell_type": "code",
   "execution_count": 3,
   "id": "cea2e896",
   "metadata": {},
   "outputs": [
    {
     "data": {
      "text/html": [
       "<div>\n",
       "<style scoped>\n",
       "    .dataframe tbody tr th:only-of-type {\n",
       "        vertical-align: middle;\n",
       "    }\n",
       "\n",
       "    .dataframe tbody tr th {\n",
       "        vertical-align: top;\n",
       "    }\n",
       "\n",
       "    .dataframe thead th {\n",
       "        text-align: right;\n",
       "    }\n",
       "</style>\n",
       "<table border=\"1\" class=\"dataframe\">\n",
       "  <thead>\n",
       "    <tr style=\"text-align: right;\">\n",
       "      <th></th>\n",
       "      <th>year</th>\n",
       "      <th>country</th>\n",
       "      <th>name</th>\n",
       "      <th>height</th>\n",
       "      <th>bmi</th>\n",
       "    </tr>\n",
       "  </thead>\n",
       "  <tbody>\n",
       "    <tr>\n",
       "      <th>120</th>\n",
       "      <td>2001</td>\n",
       "      <td>FIN</td>\n",
       "      <td>kiprusoff marko</td>\n",
       "      <td>184</td>\n",
       "      <td>26.287807</td>\n",
       "    </tr>\n",
       "    <tr>\n",
       "      <th>121</th>\n",
       "      <td>2001</td>\n",
       "      <td>FIN</td>\n",
       "      <td>nummelin petteri</td>\n",
       "      <td>178</td>\n",
       "      <td>26.196187</td>\n",
       "    </tr>\n",
       "    <tr>\n",
       "      <th>122</th>\n",
       "      <td>2001</td>\n",
       "      <td>FIN</td>\n",
       "      <td>timonen kimmo</td>\n",
       "      <td>178</td>\n",
       "      <td>27.774271</td>\n",
       "    </tr>\n",
       "    <tr>\n",
       "      <th>123</th>\n",
       "      <td>2001</td>\n",
       "      <td>FIN</td>\n",
       "      <td>niemi antti-jussi</td>\n",
       "      <td>185</td>\n",
       "      <td>25.420015</td>\n",
       "    </tr>\n",
       "    <tr>\n",
       "      <th>124</th>\n",
       "      <td>2001</td>\n",
       "      <td>FIN</td>\n",
       "      <td>salo sami</td>\n",
       "      <td>192</td>\n",
       "      <td>26.855469</td>\n",
       "    </tr>\n",
       "  </tbody>\n",
       "</table>\n",
       "</div>"
      ],
      "text/plain": [
       "     year country                name  height        bmi\n",
       "120  2001     FIN    kiprusoff marko      184  26.287807\n",
       "121  2001     FIN   nummelin petteri      178  26.196187\n",
       "122  2001     FIN      timonen kimmo      178  27.774271\n",
       "123  2001     FIN  niemi antti-jussi      185  25.420015\n",
       "124  2001     FIN          salo sami      192  26.855469"
      ]
     },
     "execution_count": 3,
     "metadata": {},
     "output_type": "execute_result"
    }
   ],
   "source": [
    "hockey_df.drop_duplicates(subset=['name'], inplace=True)\n",
    "hockey_df = hockey_df[['year','country','name','height','bmi']]\n",
    "hockey_df = hockey_df[(hockey_df['country'] == 'FIN') | (hockey_df['country'] == 'NOR') | (hockey_df['country'] == 'DEN')]\n",
    "hockey_df.head()"
   ]
  },
  {
   "cell_type": "markdown",
   "id": "8f6fef96",
   "metadata": {},
   "source": [
    "Указанные в задании гипотезы можно проверить с помощью однофакторного дисперсионного анализа."
   ]
  },
  {
   "cell_type": "markdown",
   "id": "d38853b4",
   "metadata": {},
   "source": [
    "__а) Проверяем является ли среди хоккеистов из Финляндии, Норвегии и Дании значимым отличие роста__"
   ]
  },
  {
   "cell_type": "markdown",
   "id": "f686fa02",
   "metadata": {},
   "source": [
    "1. Нулевой гипотезой $H_{0}$ считаем гипотезу о равенстве среднего роста по каждой группе (хоккеисты определенной страны), а альтернативной гипотезой $H_{1}$ - отличие роста."
   ]
  },
  {
   "cell_type": "markdown",
   "id": "dbd64f5f",
   "metadata": {},
   "source": [
    "2. Для проверки гипотез в дисперсионном анализе используется __F-критерий Фишера__. Используемая статистика представляет из себя отношение дисперсии между уровнями к дисперсии внутри уровней.\n",
    "\n",
    "Пусть в каждой выборке $Y_i$ содержится $n_i$ элементов. Обозначим через $Y$ объединение всех выборок, т.е. выборку размера $n = n_1 + \\dots + n_k$.\n",
    "\n",
    "Рассмотрим две суммы квадратов:\n",
    "$$SS_b = \\displaystyle\\sum_{i=1}^k \\left( \\overline{Y_i} - \\overline{Y} \\right)^2 \\cdot n_i, \\:\\:\n",
    "SS_w = \\displaystyle\\sum_{i=1}^k \\displaystyle\\sum_{j=1}^{n_i} \\left( y_{ij} - \\overline{Y_i} \\right)^2,$$\n",
    "где $y_{ij}$ — $j$-й элемент $i$-й выборки.\n",
    "\n",
    "Первая сумма — отклонения между группами («b» от слова Between — между), вторая — отклонения внутри групп («w» от слова Within — внутри).\n",
    "\n",
    "По этим значениям вычисляются соответствующие несмещённые оценки дисперсий:\n",
    "$$\\sigma_b^2 = \\dfrac{SS_b}{k - 1}, \\:\\: \\sigma_w^2 = \\dfrac{SS_w}{n - k}$$\n",
    "\n",
    "Итак, статистика для проверки гипотезы $H_0$:\n",
    "$$F = \\dfrac{\\sigma_b^2}{\\sigma_w^2}$$"
   ]
  },
  {
   "cell_type": "markdown",
   "id": "9eb3a35e",
   "metadata": {},
   "source": [
    "3. Уровень значимости $\\alpha = 0.05$"
   ]
  },
  {
   "cell_type": "markdown",
   "id": "d1c7a5d2",
   "metadata": {},
   "source": [
    "4. Критическая область $\\Omega_\\alpha$\n",
    "\n",
    "В предположении верности гипотезы $H_0$ статистика $F$ имеет распределение Фишера с параметрами $k_1 = k - 1$, $k_2 = n - k$. Критическая область здесь правосторонняя:\n",
    "$$\\Omega_\\alpha = \\left( t_{1 - \\alpha, \\: k_1, k_2}, \\infty \\right),$$\n",
    "где $t_{x, \\: k_1, k_2}$ — квантиль порядка $x$ для распределения Фишера с параметрами $k_1$, $k_2$."
   ]
  },
  {
   "cell_type": "markdown",
   "id": "e7d86f13",
   "metadata": {},
   "source": [
    "5. Расчет статистики"
   ]
  },
  {
   "cell_type": "code",
   "execution_count": 4,
   "id": "35b169cd",
   "metadata": {},
   "outputs": [],
   "source": [
    "height_fin = hockey_df.loc[(hockey_df['country'] == 'FIN'), 'height'].values\n",
    "height_nor = hockey_df.loc[(hockey_df['country'] == 'NOR'), 'height'].values\n",
    "height_den = hockey_df.loc[(hockey_df['country'] == 'DEN'), 'height'].values"
   ]
  },
  {
   "cell_type": "code",
   "execution_count": 5,
   "id": "f8cfea14",
   "metadata": {},
   "outputs": [
    {
     "name": "stdout",
     "output_type": "stream",
     "text": [
      "Значение статистики: 3.5504111\n",
      "P-значение: 0.02956354\n"
     ]
    }
   ],
   "source": [
    "statistics, pvalue = stats.f_oneway(height_fin, height_nor, height_den)\n",
    "print(f\"Значение статистики: {np.round(statistics, 8)}\\nP-значение: {np.round(pvalue, 8)}\")"
   ]
  },
  {
   "cell_type": "markdown",
   "id": "b8b1cf74",
   "metadata": {},
   "source": [
    "__P-значение меньше уровня значимости__ $\\alpha=0.05$, следовательно, нулевая $H_{0}$ гипотеза отвергается, а отличие роста между выборками хоккеистов из Финляндии, Норвегии и Дании признается значимым."
   ]
  },
  {
   "cell_type": "markdown",
   "id": "8c90d6b4",
   "metadata": {},
   "source": [
    "__б) Проверяем является ли среди хоккеистов из Финляндии, Норвегии и Дании значимым отличие BMI__"
   ]
  },
  {
   "cell_type": "markdown",
   "id": "1071eb3a",
   "metadata": {},
   "source": [
    "1. Нулевой гипотезой $H_{0}$ считаем гипотезу о равенстве среднего индекса массы тела BMI по каждой группе (хоккеисты определенной страны), а альтернативной гипотезой $H_{1}$ - отличие индекса массы тела BMI."
   ]
  },
  {
   "cell_type": "markdown",
   "id": "868ba382",
   "metadata": {},
   "source": [
    "2. Cтатистика для проверки гипотезы $H_0$:\n",
    "$$F = \\dfrac{\\sigma_b^2}{\\sigma_w^2}$$"
   ]
  },
  {
   "cell_type": "markdown",
   "id": "2176e24c",
   "metadata": {},
   "source": [
    "3. Уровень значимости $\\alpha = 0.05$"
   ]
  },
  {
   "cell_type": "markdown",
   "id": "eb52705f",
   "metadata": {},
   "source": [
    "4. Критическая область $\\Omega_\\alpha$\n",
    "\n",
    "В предположении верности гипотезы $H_0$ статистика $F$ имеет распределение Фишера с параметрами $k_1 = k - 1$, $k_2 = n - k$. Критическая область здесь правосторонняя:\n",
    "$$\\Omega_\\alpha = \\left( t_{1 - \\alpha, \\: k_1, k_2}, \\infty \\right),$$\n",
    "где $t_{x, \\: k_1, k_2}$ — квантиль порядка $x$ для распределения Фишера с параметрами $k_1$, $k_2$."
   ]
  },
  {
   "cell_type": "markdown",
   "id": "710ac217",
   "metadata": {},
   "source": [
    "5. Расчет статистики"
   ]
  },
  {
   "cell_type": "code",
   "execution_count": 6,
   "id": "edacada8",
   "metadata": {},
   "outputs": [],
   "source": [
    "bmi_fin = hockey_df.loc[(hockey_df['country'] == 'FIN'), 'bmi'].values\n",
    "bmi_nor = hockey_df.loc[(hockey_df['country'] == 'NOR'), 'bmi'].values\n",
    "bmi_den = hockey_df.loc[(hockey_df['country'] == 'DEN'), 'bmi'].values"
   ]
  },
  {
   "cell_type": "code",
   "execution_count": 7,
   "id": "0edb1909",
   "metadata": {},
   "outputs": [
    {
     "name": "stdout",
     "output_type": "stream",
     "text": [
      "Значение статистики: 8.47342551\n",
      "P-значение: 0.00024614\n"
     ]
    }
   ],
   "source": [
    "statistics, pvalue = stats.f_oneway(bmi_fin, bmi_nor, bmi_den)\n",
    "print(f\"Значение статистики: {np.round(statistics, 8)}\\nP-значение: {np.round(pvalue, 8)}\")"
   ]
  },
  {
   "cell_type": "markdown",
   "id": "d335a683",
   "metadata": {},
   "source": [
    "__P-значение меньше уровня значимости__ $\\alpha=0.05$, следовательно, нулевая $H_{0}$ гипотеза отвергается, а отличие индекса массы тела BMI между выборками хоккеистов из Финляндии, Норвегии и Дании признается значимым."
   ]
  },
  {
   "cell_type": "markdown",
   "id": "523597c3",
   "metadata": {},
   "source": [
    "___Ответ:___ \n",
    "\n",
    "__а)__ Отличие роста среди хоккеистов из Финляндии, Норвегии и Дании является значимым<br>\n",
    "__б)__ Отличие BMI среди хоккеистов из Финляндии, Норвегии и Дании является значимым"
   ]
  },
  {
   "cell_type": "markdown",
   "id": "896568f5",
   "metadata": {},
   "source": [
    "---"
   ]
  }
 ],
 "metadata": {
  "kernelspec": {
   "display_name": "Python 3 (ipykernel)",
   "language": "python",
   "name": "python3"
  },
  "language_info": {
   "codemirror_mode": {
    "name": "ipython",
    "version": 3
   },
   "file_extension": ".py",
   "mimetype": "text/x-python",
   "name": "python",
   "nbconvert_exporter": "python",
   "pygments_lexer": "ipython3",
   "version": "3.8.8"
  }
 },
 "nbformat": 4,
 "nbformat_minor": 5
}
