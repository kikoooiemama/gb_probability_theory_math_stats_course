{
 "cells": [
  {
   "cell_type": "markdown",
   "id": "01d3fefe",
   "metadata": {},
   "source": [
    "# Практическое задание №1 по теме \"Случайные события. Условная вероятность. Формула Байеса.  Независимые испытания\"."
   ]
  },
  {
   "cell_type": "code",
   "execution_count": 1,
   "id": "ea141c62",
   "metadata": {},
   "outputs": [],
   "source": [
    "import itertools\n",
    "import numpy as np\n",
    "\n",
    "def arrangements(n, k):\n",
    "    return np.math.factorial(n) // np.math.factorial(n - k)\n",
    "\n",
    "def combinations(n, k):\n",
    "    return np.math.factorial(n) // (np.math.factorial(k) * np.math.factorial(n - k))\n",
    "\n",
    "def permutations(n):\n",
    "    return np.math.factorial(n)"
   ]
  },
  {
   "cell_type": "markdown",
   "id": "41abc202",
   "metadata": {},
   "source": [
    "__Задача 1__\n",
    "\n",
    "Группа студентов изучает 10 различных дисциплин. Сколькими способами можно составить расписание на понедельник, если в этот день должно быть 4 разных занятия?"
   ]
  },
  {
   "cell_type": "markdown",
   "id": "47adb4ce",
   "metadata": {},
   "source": [
    "___Решение___"
   ]
  },
  {
   "cell_type": "markdown",
   "id": "e682ac6c",
   "metadata": {},
   "source": [
    "а) Если расписание начала занятий в понедельник у группы студентов значения не имеет, значит можно не учитывать различные варицаии в каком порядке какой предмет идет, а лишь учитывать какие конкретно предметы будут в понедельник."
   ]
  },
  {
   "cell_type": "markdown",
   "id": "2a41f5fd",
   "metadata": {},
   "source": [
    "Воспользуемся формулой для сочетания: $$C_n^k = \\frac{n!}{k!(n - k)!}$$"
   ]
  },
  {
   "cell_type": "code",
   "execution_count": 2,
   "id": "371f423c",
   "metadata": {},
   "outputs": [
    {
     "name": "stdout",
     "output_type": "stream",
     "text": [
      "Количество комбинаций: 210\n"
     ]
    }
   ],
   "source": [
    "n = 10\n",
    "k = 4\n",
    "res = combinations(n, k)\n",
    "\n",
    "print(f\"Количество комбинаций: {res}\")"
   ]
  },
  {
   "cell_type": "markdown",
   "id": "6da07141",
   "metadata": {},
   "source": [
    "б) Если все же учитывать расписание занятий, их порядок. То есть первая пара, например, матан, а вторая физика, тогда нужно учитывать все варианты."
   ]
  },
  {
   "cell_type": "markdown",
   "id": "d8935fe8",
   "metadata": {},
   "source": [
    "Воспользуемся формулой для размещения: $$C_n^k = \\frac{n!}{(n - k)!}$$"
   ]
  },
  {
   "cell_type": "code",
   "execution_count": 3,
   "id": "0074c637",
   "metadata": {},
   "outputs": [
    {
     "name": "stdout",
     "output_type": "stream",
     "text": [
      "Количество размещений: 5040\n"
     ]
    }
   ],
   "source": [
    "n = 10\n",
    "k = 4\n",
    "res = arrangements(n, k)\n",
    "\n",
    "print(f\"Количество размещений: {res}\")"
   ]
  },
  {
   "cell_type": "markdown",
   "id": "495682d6",
   "metadata": {},
   "source": [
    "___Ответ:___ 210 способами - если расписание (порядок) предметов в понедельник не имеет значение; 5040 способов - если расписание имеет значение."
   ]
  },
  {
   "cell_type": "markdown",
   "id": "0aee8c39",
   "metadata": {},
   "source": [
    "---"
   ]
  },
  {
   "cell_type": "markdown",
   "id": "0e1e99bc",
   "metadata": {},
   "source": [
    "__Задача 2__\n",
    "\n",
    "Из колоды в 52 карты вынимают случайным образом 4 карты. Найти число исходов, соответствующих тому, что был вытянут хотя бы один туз."
   ]
  },
  {
   "cell_type": "markdown",
   "id": "6775c9d8",
   "metadata": {},
   "source": [
    "___Решение___"
   ]
  },
  {
   "cell_type": "markdown",
   "id": "1aab7c22",
   "metadata": {},
   "source": [
    "Чтобы решить эту задачу, нужно сначала рассмотреть отдельно ситуации, когда попались или один, или два, или три, или четыре туза из выбранных четырех карт."
   ]
  },
  {
   "cell_type": "markdown",
   "id": "67a6b785",
   "metadata": {},
   "source": [
    "1. Попалось 4 туза\n",
    "\n",
    "Ситуация, в которой попалось бы все четыре туза всего 1.\n",
    "\n",
    "$$N_1 = 1$$"
   ]
  },
  {
   "cell_type": "code",
   "execution_count": 4,
   "id": "eb09583f",
   "metadata": {},
   "outputs": [
    {
     "data": {
      "text/plain": [
       "1"
      ]
     },
     "execution_count": 4,
     "metadata": {},
     "output_type": "execute_result"
    }
   ],
   "source": [
    "n_1 = 1\n",
    "n_1"
   ]
  },
  {
   "cell_type": "markdown",
   "id": "2921141d",
   "metadata": {},
   "source": [
    "2. Попалось 3 туза\n",
    "\n",
    "Число сочетаний трех тузов из четырех: $$C_{4}^{3} = \\frac{4!}{(4 - 3)!}$$\n",
    "\n",
    "Оставшаяся карта выбирается из 48 карт  — тузы не рассматриваются, так как они уже выбраны: $$C_{48}^{1}= \\frac{48!}{(48 - 1)!}$$\n",
    "\n",
    "Число сочетаний, когда из колоды, в которой 52 карт, выбраны четыре, три из которых — тузы: $$N_2 = C_{4}^{3} \\cdot C_{48}^{1} = 192$$"
   ]
  },
  {
   "cell_type": "code",
   "execution_count": 5,
   "id": "fb50c49b",
   "metadata": {},
   "outputs": [
    {
     "data": {
      "text/plain": [
       "192"
      ]
     },
     "execution_count": 5,
     "metadata": {},
     "output_type": "execute_result"
    }
   ],
   "source": [
    "n_2 = combinations(4, 3) * combinations(48, 1)\n",
    "n_2"
   ]
  },
  {
   "cell_type": "markdown",
   "id": "4ac236fb",
   "metadata": {},
   "source": [
    "3. Попалось 2 туза\n",
    "\n",
    "Число сочетаний двух тузов из четырех: $$ C_{4}^{2} = \\frac{4!}{(4 - 2)!}$$\n",
    "\n",
    "Оставшиеся две карты выбираются из 48 карт  — тузы не рассматриваются, так как они уже выбраны: $$ C_{48}^{2}= \\frac{48!}{(48 - 2)!}$$\n",
    "\n",
    "Число сочетаний, когда из колоды, в которой 52 карты, выбраны четыре, две из которых — тузы: $$N_3 = C_{4}^{2} \\cdot C_{48}^{2} = 6768$$"
   ]
  },
  {
   "cell_type": "code",
   "execution_count": 6,
   "id": "f0150003",
   "metadata": {
    "scrolled": true
   },
   "outputs": [
    {
     "data": {
      "text/plain": [
       "6768"
      ]
     },
     "execution_count": 6,
     "metadata": {},
     "output_type": "execute_result"
    }
   ],
   "source": [
    "n_3 = combinations(4, 2) * combinations(48, 2)\n",
    "n_3"
   ]
  },
  {
   "cell_type": "markdown",
   "id": "2b592c77",
   "metadata": {},
   "source": [
    "4. Попался 1 туз"
   ]
  },
  {
   "cell_type": "markdown",
   "id": "945d5006",
   "metadata": {},
   "source": [
    "Число сочетаний одного туза из четырех: $$ C_{4}^{1} = \\frac{4!}{(4 - 1)!}$$\n",
    "\n",
    "Оставшиеся три карты выбираются из 48 карт  — тузы не рассматриваются, так как они уже выбраны: $$ C_{48}^{3}= \\frac{48!}{(48 - 3)!}$$\n",
    "\n",
    "Число сочетаний, когда из колоды, в которой 52 карт, выбраны четыре, одна из которых — туз: $$N_4 = C_{4}^{1} \\cdot C_{48}^{3} = 69184$$"
   ]
  },
  {
   "cell_type": "code",
   "execution_count": 7,
   "id": "2ff79a99",
   "metadata": {
    "scrolled": true
   },
   "outputs": [
    {
     "data": {
      "text/plain": [
       "69184"
      ]
     },
     "execution_count": 7,
     "metadata": {},
     "output_type": "execute_result"
    }
   ],
   "source": [
    "n_4 = combinations(4, 1) * combinations(48, 3)\n",
    "n_4"
   ]
  },
  {
   "cell_type": "markdown",
   "id": "b9262484",
   "metadata": {},
   "source": [
    "Осталось сложить полученные числа сочетаний всех случаев: $$N_1 + N_2 + N_3 + N_4 = 76145$$"
   ]
  },
  {
   "cell_type": "code",
   "execution_count": 8,
   "id": "3df62fe4",
   "metadata": {},
   "outputs": [
    {
     "data": {
      "text/plain": [
       "76145"
      ]
     },
     "execution_count": 8,
     "metadata": {},
     "output_type": "execute_result"
    }
   ],
   "source": [
    "result = n_1 + n_2 + n_3 + n_4\n",
    "result "
   ]
  },
  {
   "cell_type": "markdown",
   "id": "f6879a93",
   "metadata": {},
   "source": [
    "___Ответ:___ 76145 исходов"
   ]
  },
  {
   "cell_type": "markdown",
   "id": "1b5c91c1",
   "metadata": {},
   "source": [
    "---"
   ]
  },
  {
   "cell_type": "markdown",
   "id": "bf0fc254",
   "metadata": {},
   "source": [
    "__Задача 3__\n",
    "\n",
    "Семь человек рассаживаются наудачу на скамейке. Какова вероятность того, что два определённых человека будут сидеть рядом?"
   ]
  },
  {
   "cell_type": "markdown",
   "id": "fd0ab8c2",
   "metadata": {},
   "source": [
    "___Решение___"
   ]
  },
  {
   "cell_type": "markdown",
   "id": "924f7aa7",
   "metadata": {},
   "source": [
    "Пусть $A$ - событие, когда два определенных человека сидят рядом, $m$ - число событий, в результате которых произошло событие $A$, $n$ - общее число испытаний, тогда\n",
    "\n",
    "$$n = P_7 = 7! = 5040$$\n",
    "\n",
    "Теперь подсчитаем количество событий $m$, когда два определенных человека сидят рядом.\n",
    "\n",
    "Пусть буквы - это обозначение людей на скамейке, причем $A$ и $B$ - те самые два определенных человека, тогда можно представить следующие расположения:\n",
    "\n",
    "$$ABcdefg$$\n",
    "$$cABdefg$$\n",
    "$$cdABefg$$\n",
    "$$cdeABfg$$\n",
    "$$cdefABg$$\n",
    "$$cdefgAB$$\n",
    "\n",
    "Получается $6$ случаев, если мы переставим местами $A$ и $B$, то прибавится еще $6$ случаев. Итого $12$. \n",
    "\n",
    "Так как нам важен порядок, нужно учесть расположения остальных пяти человек, то есть посчитать количество их перестановок.\n",
    "\n",
    "Количество перестановок для пяти человек для каждого из 12 вариантов: $P_5 = 5!$\n",
    "\n",
    "Количество случаев возникновения события $A$:\n",
    "\n",
    "$$m = 12 \\cdot P_5 = 12 \\cdot 5!=  1440$$"
   ]
  },
  {
   "cell_type": "markdown",
   "id": "fa9bef54",
   "metadata": {},
   "source": [
    "$$P(A) = \\frac{m}{n} = \\frac{1440}{5040} = \\frac{2}{7} \\approx 0.2857$$"
   ]
  },
  {
   "cell_type": "code",
   "execution_count": 9,
   "id": "0e7fa26e",
   "metadata": {},
   "outputs": [
    {
     "data": {
      "text/plain": [
       "5040"
      ]
     },
     "execution_count": 9,
     "metadata": {},
     "output_type": "execute_result"
    }
   ],
   "source": [
    "n = permutations(7)\n",
    "n"
   ]
  },
  {
   "cell_type": "code",
   "execution_count": 10,
   "id": "a2d83ada",
   "metadata": {},
   "outputs": [
    {
     "data": {
      "text/plain": [
       "1440"
      ]
     },
     "execution_count": 10,
     "metadata": {},
     "output_type": "execute_result"
    }
   ],
   "source": [
    "m = 12 * permutations(5)\n",
    "m"
   ]
  },
  {
   "cell_type": "code",
   "execution_count": 11,
   "id": "fdbe226a",
   "metadata": {
    "scrolled": false
   },
   "outputs": [
    {
     "data": {
      "text/plain": [
       "0.2857"
      ]
     },
     "execution_count": 11,
     "metadata": {},
     "output_type": "execute_result"
    }
   ],
   "source": [
    "P = m/n\n",
    "np.round(P, 4)"
   ]
  },
  {
   "cell_type": "markdown",
   "id": "be89bc19",
   "metadata": {},
   "source": [
    "Проверка полученного результата:"
   ]
  },
  {
   "cell_type": "code",
   "execution_count": 12,
   "id": "daa2e12e",
   "metadata": {
    "scrolled": false
   },
   "outputs": [
    {
     "name": "stdout",
     "output_type": "stream",
     "text": [
      "n: 5040\n",
      "m: 1440\n",
      "P(A): 0.2857\n"
     ]
    }
   ],
   "source": [
    "from pprint import pprint\n",
    "\n",
    "count = 0\n",
    "result = []\n",
    "for p in itertools.permutations('0123456', 7):\n",
    "    st = ''.join(p)\n",
    "    if st.find(\"01\") > -1 or st.find(\"10\") > -1 :\n",
    "        result.append(st)\n",
    "    count += 1\n",
    "print(f\"n: {count}\")\n",
    "print(f\"m: {len(result)}\")\n",
    "print(f\"P(A): {np.round(m/n, 4)}\")"
   ]
  },
  {
   "cell_type": "markdown",
   "id": "46269fd2",
   "metadata": {},
   "source": [
    "___Ответ:___ $\\frac{2}{7}$"
   ]
  },
  {
   "cell_type": "markdown",
   "id": "0da895cc",
   "metadata": {},
   "source": [
    "---"
   ]
  },
  {
   "cell_type": "markdown",
   "id": "4461b7a0",
   "metadata": {},
   "source": [
    "__Задача 4__\n",
    "\n",
    "Из 60 вопросов, входящих в экзаменационные билеты, студент знает 50. Какова вероятность того, что среди трёх наугад выбранных вопросов студент знает: а) все? б) два?"
   ]
  },
  {
   "cell_type": "markdown",
   "id": "db2b2cb6",
   "metadata": {},
   "source": [
    "___Решение___"
   ]
  },
  {
   "cell_type": "markdown",
   "id": "0903db1b",
   "metadata": {},
   "source": [
    "Порядок в данной задаче значения не имеет. "
   ]
  },
  {
   "cell_type": "markdown",
   "id": "8d05974d",
   "metadata": {},
   "source": [
    "___а)___ \n",
    "\n",
    "Пусть $A$ - событие, когда среди трёх наугад выбранных вопросов студент знает все, $m$ - число всех случаев, когда произошло событие $A$, $n$ - общее число случаев, тогда\n",
    "\n",
    "\n",
    "$$m = C_{50}^{3}$$\n",
    "\n",
    "$$n = C_{60}^{3}$$\n",
    "\n",
    "$$P(A) = \\frac{m}{n} = \\frac{C_{50}^{3}}{C_{60}^{3}} = \\frac{50!}{3!\\,47!} \\cdot \\frac{3!\\,57!}{60!} = \\frac{48\\cdot 49\\cdot 50}{58\\cdot 59\\cdot 60}\\approx 0.5728$$"
   ]
  },
  {
   "cell_type": "code",
   "execution_count": 13,
   "id": "79e15d79",
   "metadata": {},
   "outputs": [
    {
     "data": {
      "text/plain": [
       "0.5728"
      ]
     },
     "execution_count": 13,
     "metadata": {},
     "output_type": "execute_result"
    }
   ],
   "source": [
    "n = combinations(60,3)\n",
    "m = combinations(50,3)\n",
    "p = np.round(m/n, 4)\n",
    "p"
   ]
  },
  {
   "cell_type": "markdown",
   "id": "64c059b2",
   "metadata": {},
   "source": [
    "___б)___ \n",
    "\n",
    "Пусть $B$ - событие, когда среди трёх наугад выбранных вопросов студент знает только 2, $m$ - число всех случаев, когда произошло событие $B$, $n$ - общее число случаев.\n",
    "\n",
    "$$n = C_{60}^{3}$$\n",
    "\n",
    "Рассмотрим ситуацию, когда выбирается 2 знакомых студенту вопроса из 50, тогда число сочетаний будет равно:\n",
    "\n",
    "$$m_1 = C_{50}^{2}$$\n",
    "\n",
    "А третий вопрос (не из тех 50) выбирается из 10 вопросов, которые студент не знает. Таких случаев:\n",
    "\n",
    "$$m_2 = C_{10}^{1}$$\n",
    "\n",
    "И тогда число сочетаний, что среди трёх наугад выбранных вопросов студент знает два, а третий не знает:\n",
    "\n",
    "$$m = m_1 \\cdot m_2 = C_{50}^{2} \\cdot C_{10}^{1}$$\n",
    "\n",
    "$$P(B) = \\frac{m}{n} = \\frac{C_{50}^{2}\\cdot C_{10}^{1}}{C_{60}^{3}} = \\frac{50!}{2!\\,48!} \\cdot \\frac{10!}{1!\\,9!} \\cdot \\frac{3!\\,57!}{60!} = \\frac{49\\cdot 50 \\cdot 10 \\cdot 3}{58\\cdot 59\\cdot 60}\\approx 0.358$$"
   ]
  },
  {
   "cell_type": "code",
   "execution_count": 14,
   "id": "c37c39f9",
   "metadata": {},
   "outputs": [
    {
     "data": {
      "text/plain": [
       "0.358"
      ]
     },
     "execution_count": 14,
     "metadata": {},
     "output_type": "execute_result"
    }
   ],
   "source": [
    "n = combinations(60,3)\n",
    "m = combinations(50,2) * combinations(10, 1)\n",
    "p = np.round(m/n, 4)\n",
    "p"
   ]
  },
  {
   "cell_type": "markdown",
   "id": "4cc77d08",
   "metadata": {},
   "source": [
    "___Ответ:___ \n",
    "\n",
    "___a)___  $P(A) \\approx 0.5728$, <br>\n",
    "___б)___ $P(B) \\approx 0.358$"
   ]
  },
  {
   "cell_type": "markdown",
   "id": "1fa9ef30",
   "metadata": {},
   "source": [
    "---"
   ]
  },
  {
   "cell_type": "markdown",
   "id": "57df0bcd",
   "metadata": {},
   "source": [
    "__Задача 5__\n",
    "\n",
    "Бросается игральная кость. Пусть событие `A` - появление чётного числа, событие `B` - появление числа больше трёх. Являются ли эти события независимыми?"
   ]
  },
  {
   "cell_type": "markdown",
   "id": "3f6d1c4e",
   "metadata": {},
   "source": [
    "___Решение___"
   ]
  },
  {
   "cell_type": "markdown",
   "id": "92893d28",
   "metadata": {},
   "source": [
    "Два события называются __совместными__, если появление одного из них не исключает появления другого в одном и том же испытании.\n",
    "\n",
    "События $A$ и $B$ являются совместными событиями, так как при выпадении 4 или 6, например, одновременно происходят оба эти события.\n",
    "\n",
    "Событие $B$ называется __независимым__ от события $A$, если появление события $A$ не изменяет вероятности $B$, то есть $P(B|A) = P(B)$\n",
    "\n",
    "$$P(B | A) = \\dfrac{P(AB)}{P(A)}$$\n",
    "\n",
    "$$P(A) = \\frac{1}{2}$$\n",
    "\n",
    "$$P(B) = \\frac{1}{2}$$\n",
    "\n",
    "Только 2 из 6 событий соответствуют наступлению событий  $A$  и  $B$  одновременно, значит\n",
    "\n",
    "$$P(AB) = \\frac{1}{3} $$\n",
    "\n",
    "Таким образом, условная вероятность $P(AB)$:\n",
    "\n",
    "$$P(B | A) = \\dfrac{P(AB)}{P(A)} = \\frac{1}{3} : \\frac{1}{2} = \\frac{2}{3}$$\n",
    "\n",
    "\n",
    "Получилось, что равенство $P(B|A) = P(B)$ неверно $\\Bigl(\\frac{2}{3} \\neq \\frac{1}{2}\\Bigr)$, события не являются независимыми."
   ]
  },
  {
   "cell_type": "markdown",
   "id": "3004e52e",
   "metadata": {},
   "source": [
    "___Ответ:___ Нет, события не являются независимыми!"
   ]
  },
  {
   "cell_type": "markdown",
   "id": "526f9a0e",
   "metadata": {},
   "source": [
    "---"
   ]
  },
  {
   "cell_type": "markdown",
   "id": "f66c1d60",
   "metadata": {},
   "source": [
    "__Задача 6__\n",
    "\n",
    "Допустим, имеется некоторая очень редкая болезнь (поражает 0.1 % населения). Вы приходите к врачу, вам делают тест на эту болезнь, и тест оказывается положительным. Врач говорит вам, что этот тест верно выявляет 99 % больных этой болезнью и всего лишь в 1 % случаев даёт ложный положительный ответ.\n",
    "\n",
    "_Вопрос_: какова вероятность, что вы действительно больны ей?\n",
    "\n",
    "_Подсказка_: вновь используйте формулу Байеса с раскрытием знаменателя с помощью формулы полной вероятности."
   ]
  },
  {
   "cell_type": "markdown",
   "id": "3aafc6ae",
   "metadata": {},
   "source": [
    "___Решение___"
   ]
  },
  {
   "cell_type": "markdown",
   "id": "44b18fd8",
   "metadata": {},
   "source": [
    "Сразу же определимся с тем, какие события мы здесь рассматриваем. Пусть событие $A$ заключается в том, что тест оказался положительным (+). Кроме того, пусть событие $B_1$ заключается в том, что мы все-таки больны болезнью, а событие $B_2$ означает, что мы здоровы."
   ]
  },
  {
   "cell_type": "markdown",
   "id": "0264a610",
   "metadata": {},
   "source": [
    "Нам нужно определить какова вероятность, что мы действительно больны при условии, что наш тест положительный (+), то есть $P(B_1|A)$ - ?"
   ]
  },
  {
   "cell_type": "markdown",
   "id": "6cc05d07",
   "metadata": {},
   "source": [
    "По условию болезнь является очень редкой и поражает 0.1% населения, что означает следующее:\n",
    "\n",
    "$$P(B_1) = 0.001$$\n",
    "\n",
    "$$P(B_2) = 1 - P(B_1) = 0.999$$"
   ]
  },
  {
   "cell_type": "markdown",
   "id": "a283ebf8",
   "metadata": {},
   "source": [
    "Так как тест верно выявляет 99% больных, то \n",
    "\n",
    "$$P(A|B_1) = 0.99$$"
   ]
  },
  {
   "cell_type": "markdown",
   "id": "1809d57a",
   "metadata": {},
   "source": [
    "Так как в случае здоровых людей тест показывает 1% ложно-положительных результатов, то \n",
    "\n",
    "$$P(A|B_2) = 0.01$$"
   ]
  },
  {
   "cell_type": "markdown",
   "id": "69f405dd",
   "metadata": {},
   "source": [
    "По формуле Байеса $P(B_1|A)$:\n",
    "\n",
    "$$P(B_1|A) = \\frac{P(A|B_1) \\cdot P(B_1)}{P(A)}$$"
   ]
  },
  {
   "cell_type": "markdown",
   "id": "7629f8e4",
   "metadata": {},
   "source": [
    "Найдем $P(A)$ с помощью формулы полной вероятности:\n",
    "\n",
    "$$P(A) = P(B_1) \\cdot P(A | B_1) + P(B_2) \\cdot P(A | B_2) = 0.001\\cdot 0.99 + 0.999\\cdot 0.01 = 0.01098$$"
   ]
  },
  {
   "cell_type": "code",
   "execution_count": 15,
   "id": "fe86ab37",
   "metadata": {
    "scrolled": true
   },
   "outputs": [
    {
     "data": {
      "text/plain": [
       "0.01098"
      ]
     },
     "execution_count": 15,
     "metadata": {},
     "output_type": "execute_result"
    }
   ],
   "source": [
    "p_a = 0.001*0.99 + 0.999*0.01\n",
    "p_a"
   ]
  },
  {
   "cell_type": "markdown",
   "id": "c1b0a2ff",
   "metadata": {},
   "source": [
    "Подставляем найденные значение в формулу Байеса:\n",
    "\n",
    "$$P(B_1|A) = \\frac{P(A|B_1) \\cdot P(B_1)}{P(A)} = \\frac{0.99\\cdot 0.001}{0.01098} \\approx  0.0902$$"
   ]
  },
  {
   "cell_type": "code",
   "execution_count": 16,
   "id": "3cbe3f8a",
   "metadata": {},
   "outputs": [
    {
     "data": {
      "text/plain": [
       "0.0902"
      ]
     },
     "execution_count": 16,
     "metadata": {},
     "output_type": "execute_result"
    }
   ],
   "source": [
    "p_b1_a = 0.001*0.99/p_a\n",
    "np.round(p_b1_a, 4)"
   ]
  },
  {
   "cell_type": "markdown",
   "id": "1a890dab",
   "metadata": {},
   "source": [
    "___Ответ:___ Вероятность болезни $\\approx  0.0902$"
   ]
  },
  {
   "cell_type": "markdown",
   "id": "6b3b6d61",
   "metadata": {},
   "source": [
    "---"
   ]
  }
 ],
 "metadata": {
  "kernelspec": {
   "display_name": "Python 3 (ipykernel)",
   "language": "python",
   "name": "python3"
  },
  "language_info": {
   "codemirror_mode": {
    "name": "ipython",
    "version": 3
   },
   "file_extension": ".py",
   "mimetype": "text/x-python",
   "name": "python",
   "nbconvert_exporter": "python",
   "pygments_lexer": "ipython3",
   "version": "3.8.8"
  }
 },
 "nbformat": 4,
 "nbformat_minor": 5
}
