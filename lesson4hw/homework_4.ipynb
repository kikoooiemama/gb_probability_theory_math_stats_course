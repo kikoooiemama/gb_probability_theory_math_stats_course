{
 "cells": [
  {
   "cell_type": "markdown",
   "id": "cf04f47c",
   "metadata": {},
   "source": [
    "# Практическое задание №4 по теме \"Непрерывные случайные величины. Функция распределения и функция плотности. Нормальное распределение. Центральная предельная теорема\"."
   ]
  },
  {
   "cell_type": "code",
   "execution_count": 1,
   "id": "41a0f314",
   "metadata": {},
   "outputs": [],
   "source": [
    "import numpy as np\n",
    "from scipy import stats\n",
    "\n",
    "from matplotlib import pyplot as plt\n",
    "plt.style.use('seaborn-whitegrid')\n",
    "%config InlineBackend.figure_formats = ['svg']"
   ]
  },
  {
   "cell_type": "markdown",
   "id": "89f90e24",
   "metadata": {},
   "source": [
    "## Задача 1\n",
    "\n",
    "Случайная непрерывная величина A имеет равномерное распределение на промежутке (200, 800].\n",
    "Найдите ее среднее значение и дисперсию."
   ]
  },
  {
   "cell_type": "markdown",
   "id": "bcbe4a4c",
   "metadata": {},
   "source": [
    "___Решение___"
   ]
  },
  {
   "cell_type": "code",
   "execution_count": 2,
   "id": "e322d327",
   "metadata": {},
   "outputs": [],
   "source": [
    "a = stats.uniform.rvs(loc=200, scale=600, size=100000000)"
   ]
  },
  {
   "cell_type": "code",
   "execution_count": 3,
   "id": "c4097c51",
   "metadata": {
    "scrolled": true
   },
   "outputs": [
    {
     "name": "stdout",
     "output_type": "stream",
     "text": [
      "Среднее значение: 499.9889\n",
      "Дисперсия: 30000.25138\n"
     ]
    }
   ],
   "source": [
    "a_mean = a.mean()\n",
    "a_var = a.var()\n",
    "print(f\"Среднее значение: {np.round(a_mean, 5)}\\nДисперсия: {np.round(a_var, 5)}\")"
   ]
  },
  {
   "cell_type": "markdown",
   "id": "df6b1cde",
   "metadata": {},
   "source": [
    "___Ответ:___ Среднее значение: 499.9889, Дисперсия: 30000.25138"
   ]
  },
  {
   "cell_type": "markdown",
   "id": "e9b3cd45",
   "metadata": {},
   "source": [
    "---"
   ]
  },
  {
   "cell_type": "markdown",
   "id": "884e4f21",
   "metadata": {},
   "source": [
    "## Задача 2\n",
    "\n",
    "О случайной непрерывной равномерно распределенной величине B известно, что ее дисперсия равна 0.2. Можно ли найти правую границу величины B и ее среднее значение зная, что левая граница равна 0.5? Если да, найдите ее."
   ]
  },
  {
   "cell_type": "markdown",
   "id": "154b8e99",
   "metadata": {},
   "source": [
    "___Решение___"
   ]
  },
  {
   "cell_type": "code",
   "execution_count": 4,
   "id": "e421d991",
   "metadata": {},
   "outputs": [
    {
     "name": "stdout",
     "output_type": "stream",
     "text": [
      "Правая граница величины B: 2.05\n",
      "Дисперсия: 0.2\n"
     ]
    }
   ],
   "source": [
    "right_border = 0.5\n",
    "left_border = 0.5\n",
    "k = 3\n",
    "step = np.power(0.1, k)\n",
    "n = 1000000\n",
    "result = 0\n",
    "for i in range(n):\n",
    "    right_border += step\n",
    "    b = np.random.uniform(left_border, right_border, 10000000)\n",
    "    b_var = b.var(ddof=1)\n",
    "    if (b_var >= 0.2):\n",
    "        result = right_border\n",
    "        break\n",
    "print(f\"Правая граница величины B: {np.round(result, k)}\\nДисперсия: {np.round(b_var, k)}\")"
   ]
  },
  {
   "cell_type": "markdown",
   "id": "75ec1f93",
   "metadata": {},
   "source": [
    "Проверка:"
   ]
  },
  {
   "cell_type": "code",
   "execution_count": 5,
   "id": "9bada38c",
   "metadata": {},
   "outputs": [
    {
     "data": {
      "text/plain": [
       "0.20010342392406386"
      ]
     },
     "execution_count": 5,
     "metadata": {},
     "output_type": "execute_result"
    }
   ],
   "source": [
    "b = np.random.uniform(0.5, 2.05, 10000000)\n",
    "b.var(ddof=1)"
   ]
  },
  {
   "cell_type": "code",
   "execution_count": 6,
   "id": "d3a4f173",
   "metadata": {},
   "outputs": [
    {
     "data": {
      "text/plain": [
       "1.275"
      ]
     },
     "execution_count": 6,
     "metadata": {},
     "output_type": "execute_result"
    }
   ],
   "source": [
    "# Среднее значение\n",
    "np.round(b.mean(), 3)"
   ]
  },
  {
   "cell_type": "markdown",
   "id": "86aeb67a",
   "metadata": {},
   "source": [
    "___Ответ:___ Правая граница: 2.05, Среднее значение: 1.275"
   ]
  },
  {
   "cell_type": "markdown",
   "id": "37e0c2da",
   "metadata": {},
   "source": [
    "---"
   ]
  },
  {
   "cell_type": "markdown",
   "id": "20619c1c",
   "metadata": {},
   "source": [
    "## Задача 3\n",
    "\n",
    "Непрерывная случайная величина X распределена нормально и задана плотностью распределения $f(x)=\\frac{1}{4\\sqrt{2\\pi}}\\cdot\\frac{e^{-(x+2)^{2}}}{32}$\n",
    "\n",
    "Найдите:\n",
    "\n",
    "    а) M(X)\n",
    "    б) D(X)\n",
    "    в) std(X) (среднее квадратичное отклонение)"
   ]
  },
  {
   "cell_type": "markdown",
   "id": "80fe4ab2",
   "metadata": {},
   "source": [
    "___Решение___"
   ]
  },
  {
   "cell_type": "markdown",
   "id": "9f4a02e1",
   "metadata": {},
   "source": [
    "Выражение $f(x)=\\frac{1}{4\\sqrt{2\\pi}}\\cdot\\frac{e^{-(x+2)^{2}}}{32}$ соответствует нормальному распределнию с параметрами $\\mu = -2$ и $\\sigma = 4$ "
   ]
  },
  {
   "cell_type": "code",
   "execution_count": 7,
   "id": "581779b5",
   "metadata": {},
   "outputs": [],
   "source": [
    "mu = -2\n",
    "sigma = 4\n",
    "X = stats.norm(loc=mu, scale=sigma)"
   ]
  },
  {
   "cell_type": "code",
   "execution_count": 8,
   "id": "f00dbd4c",
   "metadata": {},
   "outputs": [],
   "source": [
    "X_mean = X.mean()\n",
    "X_var = X.var()\n",
    "X_std = X.std()"
   ]
  },
  {
   "cell_type": "code",
   "execution_count": 9,
   "id": "1d8a2b0c",
   "metadata": {},
   "outputs": [
    {
     "data": {
      "text/plain": [
       "(-2.0, 16.0, 4.0)"
      ]
     },
     "execution_count": 9,
     "metadata": {},
     "output_type": "execute_result"
    }
   ],
   "source": [
    "X_mean, X_var, X_std"
   ]
  },
  {
   "cell_type": "markdown",
   "id": "36f87576",
   "metadata": {},
   "source": [
    "___Ответ:___ _а)_ $M(X) = -2$; _б)_ $D(X) = 16$; _в)_ $std(X) = 4$"
   ]
  },
  {
   "cell_type": "markdown",
   "id": "0ba97bcf",
   "metadata": {},
   "source": [
    "---"
   ]
  },
  {
   "cell_type": "markdown",
   "id": "b176c88d",
   "metadata": {},
   "source": [
    "## Задача 4\n",
    "\n",
    "Рост взрослого населения города X имеет нормальное распределение. Причем, средний рост равен 174 см, а среднее квадратичное отклонение равно 8 см. Какова вероятность того, что случайным образом выбранный взрослый человек имеет рост:\n",
    "\n",
    "    а) больше 182 см\n",
    "    б) больше 190 см\n",
    "    в) от 166 см до 190 см\n",
    "    г) от 166 см до 182 см\n",
    "    д) от 158 см до 190 см\n",
    "    е) не выше 150 см или не ниже 190 см\n",
    "    ё) не выше 150 см или не ниже 198 см\n",
    "    ж) ниже 166 см.\n"
   ]
  },
  {
   "cell_type": "markdown",
   "id": "90d90857",
   "metadata": {},
   "source": [
    "___Решение___"
   ]
  },
  {
   "cell_type": "markdown",
   "id": "1523f1a2",
   "metadata": {},
   "source": [
    "Параметры нормального распределения из условия задания: $\\mu = 174$ и $\\sigma = 8$ "
   ]
  },
  {
   "cell_type": "code",
   "execution_count": 10,
   "id": "54184398",
   "metadata": {},
   "outputs": [],
   "source": [
    "mu = 174\n",
    "sigma = 8\n",
    "X = stats.norm(loc=mu, scale=sigma)"
   ]
  },
  {
   "cell_type": "code",
   "execution_count": 11,
   "id": "8999e694",
   "metadata": {},
   "outputs": [],
   "source": [
    "a_ = 1 - X.cdf(182)\n",
    "b_ = 1 - X.cdf(190)\n",
    "v_ = X.cdf(190) - X.cdf(166)\n",
    "g_ = X.cdf(182) - X.cdf(166)\n",
    "d_ = X.cdf(190) - X.cdf(158)\n",
    "e_ = X.cdf(150) + (1 - X.cdf(190))\n",
    "i_ = X.cdf(150) + (1 - X.cdf(198))\n",
    "j_ = X.cdf(166)"
   ]
  },
  {
   "cell_type": "code",
   "execution_count": 12,
   "id": "b1df7c6e",
   "metadata": {},
   "outputs": [],
   "source": [
    "result = (a_, b_, v_, g_, d_, e_, i_, j_)\n",
    "result = np.round(result, 5)"
   ]
  },
  {
   "cell_type": "code",
   "execution_count": 13,
   "id": "1697cb60",
   "metadata": {},
   "outputs": [
    {
     "data": {
      "text/plain": [
       "array([0.15866, 0.02275, 0.81859, 0.68269, 0.9545 , 0.0241 , 0.0027 ,\n",
       "       0.15866])"
      ]
     },
     "execution_count": 13,
     "metadata": {},
     "output_type": "execute_result"
    }
   ],
   "source": [
    "result"
   ]
  },
  {
   "cell_type": "markdown",
   "id": "c5b75587",
   "metadata": {},
   "source": [
    "___Ответ:___\n",
    "\n",
    "    а) 0.15866,\n",
    "    б) 0.02275,\n",
    "    в) 0.81859,\n",
    "    г) 0.68269,\n",
    "    д) 0.9545,\n",
    "    е) 0.0241,\n",
    "    ё) 0.0027,\n",
    "    ж) 0.15866"
   ]
  },
  {
   "cell_type": "markdown",
   "id": "02579736",
   "metadata": {},
   "source": [
    "---"
   ]
  },
  {
   "cell_type": "markdown",
   "id": "bdd98adf",
   "metadata": {},
   "source": [
    "## Задача 5\n",
    "\n",
    "На сколько сигм (средних квадратичных отклонений) отклоняется рост человека, равный 190 см, от математического ожидания роста в популяции, в которой $M(X)$ = 178 см и $D(X)$ = 25 кв.см?"
   ]
  },
  {
   "cell_type": "markdown",
   "id": "c2696502",
   "metadata": {},
   "source": [
    "___Решение___"
   ]
  },
  {
   "cell_type": "markdown",
   "id": "8eb9ea4c",
   "metadata": {},
   "source": [
    "Параметры нормального распределения из условия задания: $\\mu = M(X) = 178$ и $\\sigma = \\sqrt{D(X)} = 5$ "
   ]
  },
  {
   "cell_type": "code",
   "execution_count": 14,
   "id": "1597e49e",
   "metadata": {},
   "outputs": [
    {
     "data": {
      "text/plain": [
       "2.4"
      ]
     },
     "execution_count": 14,
     "metadata": {},
     "output_type": "execute_result"
    }
   ],
   "source": [
    "value = 190\n",
    "mx = 178\n",
    "dx = 25\n",
    "sigma = np.sqrt(dx)\n",
    "deviation = (value - mx)/sigma \n",
    "deviation"
   ]
  },
  {
   "cell_type": "markdown",
   "id": "8e0b8675",
   "metadata": {},
   "source": [
    "___Ответ:___ Отклонение на $2.4\\sigma$"
   ]
  },
  {
   "cell_type": "markdown",
   "id": "5288ccf9",
   "metadata": {},
   "source": [
    "---"
   ]
  }
 ],
 "metadata": {
  "kernelspec": {
   "display_name": "Python 3 (ipykernel)",
   "language": "python",
   "name": "python3"
  },
  "language_info": {
   "codemirror_mode": {
    "name": "ipython",
    "version": 3
   },
   "file_extension": ".py",
   "mimetype": "text/x-python",
   "name": "python",
   "nbconvert_exporter": "python",
   "pygments_lexer": "ipython3",
   "version": "3.8.8"
  }
 },
 "nbformat": 4,
 "nbformat_minor": 5
}
