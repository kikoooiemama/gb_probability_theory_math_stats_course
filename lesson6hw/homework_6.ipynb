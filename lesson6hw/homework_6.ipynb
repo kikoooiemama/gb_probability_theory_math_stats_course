{
 "cells": [
  {
   "cell_type": "markdown",
   "id": "ad961059",
   "metadata": {},
   "source": [
    "# Практическое задание №6 по теме \"Взаимосвязь величин. Показатели корреляции. Корреляционный анализ. Проверка на нормальность\"."
   ]
  },
  {
   "cell_type": "code",
   "execution_count": 1,
   "id": "f700f53b",
   "metadata": {},
   "outputs": [],
   "source": [
    "import numpy as np\n",
    "import pandas as pd\n",
    "from scipy import stats"
   ]
  },
  {
   "cell_type": "markdown",
   "id": "c7610360",
   "metadata": {},
   "source": [
    "## Задание 1\n",
    "\n",
    "Даны значения величины заработной платы заемщиков банка (`zp`) и значения их поведенческого кредитного скоринга (`ks`):\n",
    "```\n",
    "zp = [35, 45, 190, 200, 40, 70, 54, 150, 120, 110],\n",
    "ks = [401, 574, 874, 919, 459, 739, 653, 902, 746, 832]\n",
    "```\n",
    "Найдите ковариацию этих двух величин с помощью элементарных действий, а затем с помощью функции cov из numpy. Полученные значения должны быть равны.\n",
    "\n",
    "Найдите коэффициент корреляции Пирсона с помощью ковариации и среднеквадратичных отклонений двух признаков, а затем с использованием функций из библиотек numpy и pandas."
   ]
  },
  {
   "cell_type": "markdown",
   "id": "86f52dde",
   "metadata": {},
   "source": [
    "___Решение___"
   ]
  },
  {
   "cell_type": "code",
   "execution_count": 2,
   "id": "f2b95250",
   "metadata": {},
   "outputs": [],
   "source": [
    "zp = np.array([35, 45, 190, 200, 40, 70, 54, 150, 120, 110])\n",
    "ks = np.array([401, 574, 874, 919, 459, 739, 653, 902, 746, 832])"
   ]
  },
  {
   "cell_type": "markdown",
   "id": "589f822c",
   "metadata": {},
   "source": [
    "1. Находим ковариацию. Несмещённую оценку ковариации можно посчитать следующим образом:\n",
    "$$\\sigma_{XY} = \\dfrac{1}{n - 1} \\displaystyle\\sum_{i = 1}^n \\left( x_i - \\overline{X} \\right) \\cdot \\left( y_i - \\overline{Y} \\right)$$"
   ]
  },
  {
   "cell_type": "code",
   "execution_count": 3,
   "id": "e69728fd",
   "metadata": {},
   "outputs": [],
   "source": [
    "n = zp.shape[0] if zp.shape[0] == ks.shape[0] else 0"
   ]
  },
  {
   "cell_type": "code",
   "execution_count": 4,
   "id": "8370fcb0",
   "metadata": {},
   "outputs": [
    {
     "data": {
      "text/plain": [
       "10175.37777777778"
      ]
     },
     "execution_count": 4,
     "metadata": {},
     "output_type": "execute_result"
    }
   ],
   "source": [
    "zp_mean = zp.sum() / n\n",
    "ks_mean = ks.sum() / n\n",
    "\n",
    "cov = ((zp-zp_mean)*(ks-ks_mean)).sum()/(n-1)\n",
    "cov"
   ]
  },
  {
   "cell_type": "markdown",
   "id": "152a77cc",
   "metadata": {},
   "source": [
    "С помощью cov из numpy:"
   ]
  },
  {
   "cell_type": "code",
   "execution_count": 5,
   "id": "45ed79a7",
   "metadata": {
    "scrolled": false
   },
   "outputs": [
    {
     "data": {
      "text/plain": [
       "array([[ 3882.93333333, 10175.37777778],\n",
       "       [10175.37777778, 33854.32222222]])"
      ]
     },
     "execution_count": 5,
     "metadata": {},
     "output_type": "execute_result"
    }
   ],
   "source": [
    "np.cov(zp, ks, ddof=1)"
   ]
  },
  {
   "cell_type": "code",
   "execution_count": 6,
   "id": "63edd2de",
   "metadata": {},
   "outputs": [
    {
     "name": "stdout",
     "output_type": "stream",
     "text": [
      "Ковариация: 10175.37777777778\n"
     ]
    }
   ],
   "source": [
    "print(f\"Ковариация: {cov}\")"
   ]
  },
  {
   "cell_type": "markdown",
   "id": "b69bd1b1",
   "metadata": {},
   "source": [
    "2. Найдем коэффициент корреляции Пирсона, который можно посчитать следующим образом:\n",
    "\n",
    "$$r_{XY} = \\dfrac{\\sigma_{XY}}{\\sigma_X \\cdot \\sigma_Y},$$\n",
    "\n",
    "где $\\sigma_X$, $\\sigma_Y$ — среднее квадратическое отклонение."
   ]
  },
  {
   "cell_type": "code",
   "execution_count": 7,
   "id": "9d4faa0d",
   "metadata": {},
   "outputs": [
    {
     "data": {
      "text/plain": [
       "(62.31318747531162, 183.99544076477068)"
      ]
     },
     "execution_count": 7,
     "metadata": {},
     "output_type": "execute_result"
    }
   ],
   "source": [
    "zp_std = (((zp - zp_mean)**2).sum()/(n-1))**0.5\n",
    "ks_std = (((ks - ks_mean)**2).sum()/(n-1))**0.5\n",
    "\n",
    "zp_std, ks_std"
   ]
  },
  {
   "cell_type": "code",
   "execution_count": 8,
   "id": "6a6d3899",
   "metadata": {},
   "outputs": [
    {
     "name": "stdout",
     "output_type": "stream",
     "text": [
      "Коэффициент корреляции Пирсона без использования библиотек numpy, pandas\n"
     ]
    },
    {
     "data": {
      "text/plain": [
       "0.8874900920739164"
      ]
     },
     "execution_count": 8,
     "metadata": {},
     "output_type": "execute_result"
    }
   ],
   "source": [
    "corr = cov / (zp_std * ks_std)\n",
    "print('Коэффициент корреляции Пирсона без использования библиотек numpy, pandas')\n",
    "corr"
   ]
  },
  {
   "cell_type": "code",
   "execution_count": 9,
   "id": "e07b2de3",
   "metadata": {},
   "outputs": [
    {
     "name": "stdout",
     "output_type": "stream",
     "text": [
      "Коэффициент корреляции Пирсона через библиотеку numpy\n"
     ]
    },
    {
     "data": {
      "text/plain": [
       "array([[1.        , 0.88749009],\n",
       "       [0.88749009, 1.        ]])"
      ]
     },
     "execution_count": 9,
     "metadata": {},
     "output_type": "execute_result"
    }
   ],
   "source": [
    "print('Коэффициент корреляции Пирсона через библиотеку numpy')\n",
    "np.corrcoef(zp, ks)"
   ]
  },
  {
   "cell_type": "code",
   "execution_count": 10,
   "id": "2338026f",
   "metadata": {},
   "outputs": [
    {
     "name": "stdout",
     "output_type": "stream",
     "text": [
      "Коэффициент корреляции Пирсона через библиотеку pandas\n"
     ]
    },
    {
     "data": {
      "text/html": [
       "<div>\n",
       "<style scoped>\n",
       "    .dataframe tbody tr th:only-of-type {\n",
       "        vertical-align: middle;\n",
       "    }\n",
       "\n",
       "    .dataframe tbody tr th {\n",
       "        vertical-align: top;\n",
       "    }\n",
       "\n",
       "    .dataframe thead th {\n",
       "        text-align: right;\n",
       "    }\n",
       "</style>\n",
       "<table border=\"1\" class=\"dataframe\">\n",
       "  <thead>\n",
       "    <tr style=\"text-align: right;\">\n",
       "      <th></th>\n",
       "      <th>zp</th>\n",
       "      <th>ks</th>\n",
       "    </tr>\n",
       "  </thead>\n",
       "  <tbody>\n",
       "    <tr>\n",
       "      <th>zp</th>\n",
       "      <td>1.00000</td>\n",
       "      <td>0.88749</td>\n",
       "    </tr>\n",
       "    <tr>\n",
       "      <th>ks</th>\n",
       "      <td>0.88749</td>\n",
       "      <td>1.00000</td>\n",
       "    </tr>\n",
       "  </tbody>\n",
       "</table>\n",
       "</div>"
      ],
      "text/plain": [
       "         zp       ks\n",
       "zp  1.00000  0.88749\n",
       "ks  0.88749  1.00000"
      ]
     },
     "execution_count": 10,
     "metadata": {},
     "output_type": "execute_result"
    }
   ],
   "source": [
    "print('Коэффициент корреляции Пирсона через библиотеку pandas')\n",
    "df = pd.DataFrame({'zp': zp, 'ks': ks})\n",
    "df.corr()"
   ]
  },
  {
   "cell_type": "code",
   "execution_count": 11,
   "id": "77f3009d",
   "metadata": {},
   "outputs": [
    {
     "name": "stdout",
     "output_type": "stream",
     "text": [
      "Коэффициент корреляции Пирсона: 0.8874900920739164\n"
     ]
    }
   ],
   "source": [
    "print(f\"Коэффициент корреляции Пирсона: {corr}\")"
   ]
  },
  {
   "cell_type": "markdown",
   "id": "2592a47c",
   "metadata": {},
   "source": [
    "___Ответ:___  $\\sigma_{XY} = 10175.37777778$, $r_{XY} = 0.88749009$"
   ]
  },
  {
   "cell_type": "markdown",
   "id": "82494180",
   "metadata": {},
   "source": [
    "---"
   ]
  },
  {
   "cell_type": "markdown",
   "id": "48545ec4",
   "metadata": {},
   "source": [
    "## Задание 2\n",
    "\n",
    "Измерены значения IQ выборки студентов, обучающихся в местных технических вузах:\n",
    "```\n",
    "131, 125, 115, 122, 131, 115, 107, 99, 125, 111\n",
    "```\n",
    "Известно, что в генеральной совокупности IQ распределен нормально. Найдите доверительный интервал для математического ожидания с надежностью 0.95."
   ]
  },
  {
   "cell_type": "markdown",
   "id": "7510eca7",
   "metadata": {},
   "source": [
    "___Решение___"
   ]
  },
  {
   "cell_type": "markdown",
   "id": "88e5fe15",
   "metadata": {},
   "source": [
    "Генеральная совокупность распределена нормально, дисперсия неизвестна, оценка математического ожидания. На основании этих данных используем __t-статистику__, которая имеет распределение Стьюдента:\n",
    "$$t = \\dfrac{\\overline{X} - \\mu}{\\sigma_X / \\sqrt{n}}$$\n",
    "\n",
    "Требуется построить доверительный интервал для математического ожидания $\\mu$ с доверительной вероятностью $p=0.95$\n",
    "\n",
    "$$P \\left( \\overline{X} + t_{\\alpha / 2, \\: n - 1} \\cdot \\dfrac{\\sigma_X}{\\sqrt{n}} \\leq \\mu \\leq \\overline{X} + t_{1 - \\alpha / 2, \\: n - 1} \\cdot \\dfrac{\\sigma_X}{\\sqrt{n}} \\right) = p$$"
   ]
  },
  {
   "cell_type": "code",
   "execution_count": 12,
   "id": "a7a09501",
   "metadata": {},
   "outputs": [],
   "source": [
    "IQ = np.array([131, 125, 115, 122, 131, 115, 107, 99, 125, 111])\n",
    "p = 0.95"
   ]
  },
  {
   "cell_type": "markdown",
   "id": "5f64e777",
   "metadata": {},
   "source": [
    "Расчитаем $\\overline X$, $\\sigma_{X}$, $n$, $alpha$"
   ]
  },
  {
   "cell_type": "code",
   "execution_count": 13,
   "id": "b7a2f200",
   "metadata": {},
   "outputs": [
    {
     "data": {
      "text/plain": [
       "(10, 118.1, 10.54566788359614, 0.050000000000000044)"
      ]
     },
     "execution_count": 13,
     "metadata": {},
     "output_type": "execute_result"
    }
   ],
   "source": [
    "n = IQ.shape[0]\n",
    "mean = IQ.mean()\n",
    "std = IQ.std(ddof=1)\n",
    "alpha = 1 - p\n",
    "\n",
    "n, mean, std, alpha"
   ]
  },
  {
   "cell_type": "markdown",
   "id": "b4fc75ba",
   "metadata": {},
   "source": [
    "Найдем с помощью `scipy` нужные квантили:"
   ]
  },
  {
   "cell_type": "code",
   "execution_count": 14,
   "id": "79005093",
   "metadata": {},
   "outputs": [
    {
     "data": {
      "text/plain": [
       "(-2.2621571627409915, 2.2621571627409915)"
      ]
     },
     "execution_count": 14,
     "metadata": {},
     "output_type": "execute_result"
    }
   ],
   "source": [
    "t1 = stats.t.ppf(alpha/2, df=n-1)\n",
    "t2 = stats.t.ppf(1-alpha/2, df=n-1)\n",
    "\n",
    "t1, t2"
   ]
  },
  {
   "cell_type": "markdown",
   "id": "54b6fd58",
   "metadata": {},
   "source": [
    "Итак, доверительный интервал:"
   ]
  },
  {
   "cell_type": "code",
   "execution_count": 15,
   "id": "09ba7e0a",
   "metadata": {},
   "outputs": [
    {
     "data": {
      "text/plain": [
       "(110.55608365158724, 125.64391634841274)"
      ]
     },
     "execution_count": 15,
     "metadata": {},
     "output_type": "execute_result"
    }
   ],
   "source": [
    "CI = (mean + t1 * std / np.sqrt(n), mean + t2 * std / np.sqrt(n))\n",
    "CI"
   ]
  },
  {
   "cell_type": "markdown",
   "id": "2cc0d678",
   "metadata": {},
   "source": [
    "___Ответ:___ (110.55608365158724, 125.64391634841274)"
   ]
  },
  {
   "cell_type": "markdown",
   "id": "30d8464f",
   "metadata": {},
   "source": [
    "---"
   ]
  },
  {
   "cell_type": "markdown",
   "id": "0027e422",
   "metadata": {},
   "source": [
    "## Задание 3\n",
    "\n",
    "Известно, что рост футболистов в сборной распределен нормально с дисперсией генеральной совокупности, равной 25 кв.см. Объем выборки равен 27, среднее выборочное составляет 174.2. Найдите доверительный интервал для математического ожидания с надежностью 0.95."
   ]
  },
  {
   "cell_type": "markdown",
   "id": "b12790cb",
   "metadata": {},
   "source": [
    "___Решение___"
   ]
  },
  {
   "cell_type": "markdown",
   "id": "d01bd8c4",
   "metadata": {},
   "source": [
    "Генеральная совокупность распределена нормально, дисперсия известна, оценка математического ожидания. Используем __Z-статистику__, которая имеет стандартное нормальное распределение:\n",
    "$$Z = \\dfrac{\\overline{X} - \\mu}{\\sigma / \\sqrt{n}}$$\n",
    "\n",
    "Требуется построить доверительный интервал для математического ожидания $\\mu$ с доверительной вероятностью $p=0.95$\n",
    "\n",
    "$$P \\left( \\overline{X} + t_{\\alpha / 2} \\cdot \\dfrac{\\sigma}{\\sqrt{n}} \\leq \\mu \\leq \\overline{X} + t_{1 - \\alpha / 2} \\cdot \\dfrac{\\sigma}{\\sqrt{n}} \\right) = p$$"
   ]
  },
  {
   "cell_type": "markdown",
   "id": "18c0fcb1",
   "metadata": {},
   "source": [
    "$$\\overline{X} = 174.2,\\,\\,\\, n = 27,\\,\\,\\, \\sigma^{2}=25,\\,\\,\\, \\alpha = 1-p=0.05 $$"
   ]
  },
  {
   "cell_type": "code",
   "execution_count": 16,
   "id": "282f317e",
   "metadata": {},
   "outputs": [],
   "source": [
    "mean = 174.2\n",
    "var = 25\n",
    "n = 27\n",
    "alpha = 0.05\n",
    "std = np.sqrt(var)"
   ]
  },
  {
   "cell_type": "code",
   "execution_count": 17,
   "id": "969bbdfa",
   "metadata": {},
   "outputs": [
    {
     "data": {
      "text/plain": [
       "(-1.9599639845400545, 1.959963984540054)"
      ]
     },
     "execution_count": 17,
     "metadata": {},
     "output_type": "execute_result"
    }
   ],
   "source": [
    "t1 = stats.norm.ppf(alpha/2)\n",
    "t2 = stats.norm.ppf(1-alpha/2)\n",
    "\n",
    "t1, t2"
   ]
  },
  {
   "cell_type": "markdown",
   "id": "29cfa161",
   "metadata": {},
   "source": [
    "Итак, доверительный интервал:"
   ]
  },
  {
   "cell_type": "code",
   "execution_count": 18,
   "id": "a541761d",
   "metadata": {},
   "outputs": [
    {
     "data": {
      "text/plain": [
       "(172.3140237765397, 176.08597622346028)"
      ]
     },
     "execution_count": 18,
     "metadata": {},
     "output_type": "execute_result"
    }
   ],
   "source": [
    "CI = (mean + t1 * std / np.sqrt(n), mean + t2 * std / np.sqrt(n))\n",
    "CI"
   ]
  },
  {
   "cell_type": "markdown",
   "id": "692b56c9",
   "metadata": {},
   "source": [
    "___Ответ:___ (172.3140237765397, 176.08597622346028)"
   ]
  },
  {
   "cell_type": "markdown",
   "id": "e8ee63cb",
   "metadata": {},
   "source": [
    "---"
   ]
  },
  {
   "cell_type": "markdown",
   "id": "b8827e02",
   "metadata": {},
   "source": [
    "## Задание 4\n",
    "\n",
    "Выберите тему для проектной работы по курсу \"Теории вероятностей и математической статистики\" и напишите ее в комментарии к Практическому заданию."
   ]
  },
  {
   "cell_type": "markdown",
   "id": "4d147ad4",
   "metadata": {},
   "source": [
    "Тут непонятно, поскольку ни о какой проектной работе в видеоуроках не сказано. Это видимо для вебинарного курса, и поэтому нашего интерактивного курса не касается."
   ]
  },
  {
   "cell_type": "markdown",
   "id": "5fd79f6c",
   "metadata": {},
   "source": [
    "---"
   ]
  }
 ],
 "metadata": {
  "kernelspec": {
   "display_name": "Python 3 (ipykernel)",
   "language": "python",
   "name": "python3"
  },
  "language_info": {
   "codemirror_mode": {
    "name": "ipython",
    "version": 3
   },
   "file_extension": ".py",
   "mimetype": "text/x-python",
   "name": "python",
   "nbconvert_exporter": "python",
   "pygments_lexer": "ipython3",
   "version": "3.8.8"
  }
 },
 "nbformat": 4,
 "nbformat_minor": 5
}
