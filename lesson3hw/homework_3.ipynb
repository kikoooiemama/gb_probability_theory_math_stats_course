{
 "cells": [
  {
   "cell_type": "markdown",
   "id": "b8187057",
   "metadata": {},
   "source": [
    "# Практическое задание №3 по теме \"Основы математической статистики. Количественные характеристики популяции. Графическое представление данных\"."
   ]
  },
  {
   "cell_type": "markdown",
   "id": "5a985c50",
   "metadata": {},
   "source": [
    "__Задача 1__\n",
    "\n",
    "Даны значения зарплат из выборки выпускников:\n",
    "\n",
    "`100, 80, 75, 77, 89, 33, 45, 25, 65, 17, 30, 230, 24, 57, 55, 70, 75, 65, 84, 90, 150`\n",
    "\n",
    "Используя только встроенные питоновские функции и структуры данных (т.е. без библиотек numpy, pandas и др.), посчитайте (несмещённое) среднее квадратичное отклонение для данной выборки."
   ]
  },
  {
   "cell_type": "markdown",
   "id": "9515f0f7",
   "metadata": {},
   "source": [
    "___Решение___"
   ]
  },
  {
   "cell_type": "code",
   "execution_count": 1,
   "id": "efef755a",
   "metadata": {},
   "outputs": [],
   "source": [
    "import math "
   ]
  },
  {
   "cell_type": "markdown",
   "id": "4564cee1",
   "metadata": {},
   "source": [
    "$$\\overline{X} = \\dfrac{1}{n} \\displaystyle\\sum_{i = 1}^n x_i$$"
   ]
  },
  {
   "cell_type": "code",
   "execution_count": 2,
   "id": "a22a0b1d",
   "metadata": {},
   "outputs": [
    {
     "data": {
      "text/plain": [
       "73.14285714285714"
      ]
     },
     "execution_count": 2,
     "metadata": {},
     "output_type": "execute_result"
    }
   ],
   "source": [
    "x = [100, 80, 75, 77, 89, 33, 45, 25, 65, 17, 30, 230, 24, 57, 55, 70, 75, 65, 84, 90, 150]\n",
    "x = sorted(x)\n",
    "x_len = len(x)\n",
    "x_mean = sum(x)/x_len\n",
    "x_mean"
   ]
  },
  {
   "cell_type": "markdown",
   "id": "11b8501a",
   "metadata": {},
   "source": [
    "$$\\sigma_X^2 = \\dfrac{1}{n - 1} \\displaystyle\\sum_{i = 1}^n \\left( x_i - \\overline{X} \\right)^2$$"
   ]
  },
  {
   "cell_type": "code",
   "execution_count": 3,
   "id": "7d9b5203",
   "metadata": {},
   "outputs": [
    {
     "data": {
      "text/plain": [
       "2241.828571428571"
      ]
     },
     "execution_count": 3,
     "metadata": {},
     "output_type": "execute_result"
    }
   ],
   "source": [
    "su = [(x_i-x_mean)**2 for x_i in x]\n",
    "delta_sq = sum(su)/(x_len-1)\n",
    "delta_sq"
   ]
  },
  {
   "cell_type": "code",
   "execution_count": 4,
   "id": "55b2b5f4",
   "metadata": {
    "scrolled": true
   },
   "outputs": [
    {
     "data": {
      "text/plain": [
       "47.34795214"
      ]
     },
     "execution_count": 4,
     "metadata": {},
     "output_type": "execute_result"
    }
   ],
   "source": [
    "delta = round(math.sqrt(delta_sq), 8)\n",
    "delta"
   ]
  },
  {
   "cell_type": "markdown",
   "id": "6e688776",
   "metadata": {},
   "source": [
    "___Ответ:___ $\\sigma_X =  47.34795214$"
   ]
  },
  {
   "cell_type": "markdown",
   "id": "18cbaef7",
   "metadata": {},
   "source": [
    "---"
   ]
  },
  {
   "cell_type": "markdown",
   "id": "f834c79c",
   "metadata": {},
   "source": [
    "__Задача 2__\n",
    "\n",
    "Найдите число выбросов в выборке из задачи 1. Для определения выбросов используйте методику как при построении “усов” в _boxplot_, однако, как и в задаче 1, пользоваться можно только встроенными функциями и структурами данных."
   ]
  },
  {
   "cell_type": "markdown",
   "id": "0ee8ac8d",
   "metadata": {},
   "source": [
    "___Решение___"
   ]
  },
  {
   "cell_type": "markdown",
   "id": "47fd7a54",
   "metadata": {},
   "source": [
    "Границами ящика служат первый и третий квартили ($Q_1$, $Q_3$)\n",
    "\n",
    "Границы усов $[X1, X2]$ расчитываются следующим образом:\n",
    "\n",
    "$$\\left[ Q_1 - 1.5 \\times IQR, \\: Q_3 + 1.5 \\times IQR \\right],$$\n",
    "\n",
    "где $IQR = Q_3 - Q_1$ — интерквартильное расстояние."
   ]
  },
  {
   "cell_type": "markdown",
   "id": "3da2113d",
   "metadata": {},
   "source": [
    "Важно при этом, что длину верхнего уса ограничиваем максимальным значением по выборке, попадающим в верхнюю границу уса; длину нижнего уса ограничиваем минимальным значением по выборке, попадающим в длину нижнего уса."
   ]
  },
  {
   "cell_type": "code",
   "execution_count": 5,
   "id": "a9e5d75e",
   "metadata": {},
   "outputs": [
    {
     "data": {
      "text/plain": [
       "(45, 84)"
      ]
     },
     "execution_count": 5,
     "metadata": {},
     "output_type": "execute_result"
    }
   ],
   "source": [
    "q1 = x[x_len // 4]\n",
    "q3 = x[3 * x_len // 4]\n",
    "iqr = q3 - q1\n",
    "\n",
    "q1, q3"
   ]
  },
  {
   "cell_type": "code",
   "execution_count": 6,
   "id": "7bed7428",
   "metadata": {},
   "outputs": [
    {
     "name": "stdout",
     "output_type": "stream",
     "text": [
      "Х1=17, Х2=100\n"
     ]
    }
   ],
   "source": [
    "x1 = q1 - 1.5 * iqr\n",
    "x2 = q3 + 1.5 * iqr\n",
    "\n",
    "for x_i in x:\n",
    "    if x1 < x_i:\n",
    "        x1 = x_i\n",
    "        break\n",
    "\n",
    "        \n",
    "for x_i in x[::-1]:\n",
    "    if x2 > x_i:\n",
    "        x2 = x_i\n",
    "        break\n",
    "\n",
    "print(f\"Х1={x1}, Х2={x2}\")"
   ]
  },
  {
   "cell_type": "code",
   "execution_count": 7,
   "id": "08a1bbb1",
   "metadata": {},
   "outputs": [
    {
     "name": "stdout",
     "output_type": "stream",
     "text": [
      "Количество выбросов: 2\n"
     ]
    }
   ],
   "source": [
    "outlier = [x_i for x_i in x if (x_i > x2 or x_i < x1)]\n",
    "print(f\"Количество выбросов: {len(outlier)}\")"
   ]
  },
  {
   "cell_type": "markdown",
   "id": "3e2e88fe",
   "metadata": {},
   "source": [
    "___Ответ:___ 2 выброса."
   ]
  },
  {
   "cell_type": "markdown",
   "id": "70e72211",
   "metadata": {},
   "source": [
    "---"
   ]
  },
  {
   "cell_type": "markdown",
   "id": "7f60b9a4",
   "metadata": {},
   "source": [
    "__Задача 3__\n",
    "\n",
    "В университет на факультет **A** поступило 100 человек, на факультет **B** - 90 человек и на факультет **C** - 45 человек. Вероятность того, что студент с факультета **A** сдаст первую сессию, равна 0.6. Для студента с факультета **B** эта вероятность равна 0.7, а для студента с факультета **C** - 0.8. Случайным образом выбирается студент, сдавший первую сессию. Какое событие наиболее вероятно:\n",
    "\n",
    "<ol>\n",
    "    <li>студент учится на факультете A,</li>\n",
    "    <li>студент учится на факультете B,</li>\n",
    "    <li>студент учится на факультете C?</li>\n",
    "</ol>"
   ]
  },
  {
   "cell_type": "markdown",
   "id": "f56b3667",
   "metadata": {},
   "source": [
    "__Решение__"
   ]
  },
  {
   "cell_type": "markdown",
   "id": "d9582ebf",
   "metadata": {},
   "source": [
    "Сразу же определимся с тем, какие события мы здесь рассматриваем. Пусть событие $A$ заключается в том, что студент сдал сессию. Кроме того, пусть для каждого $i \\in \\{ 1, 2, 3 \\}$ событие $B_i$ заключается в том, что студент учится на $i$-м факультете."
   ]
  },
  {
   "cell_type": "markdown",
   "id": "79909d71",
   "metadata": {},
   "source": [
    "Распишем чему равна вероятность того, что выбранный студент обучается на $i$-м факультете:\n",
    "\n",
    "$$P(B_1) = \\frac{100}{235}$$, $$P(B_2) = \\frac{90}{235}$$, $$P(B_3) = \\frac{45}{235}$$"
   ]
  },
  {
   "cell_type": "code",
   "execution_count": 8,
   "id": "665f8d14",
   "metadata": {},
   "outputs": [],
   "source": [
    "p_b_1 = 100/235\n",
    "p_b_2 = 90/235\n",
    "p_b_3 = 45/235"
   ]
  },
  {
   "cell_type": "markdown",
   "id": "e0a1e6e3",
   "metadata": {},
   "source": [
    "Распишем чему равны вероятности успешной сдачи сессии студентом, если известно, что он обучается на $i$-м факультете:\n",
    "\n",
    "$$P(A|B_1) = 0.6$$, $$P(A|B_2) = 0.7$$, $$P(A|B_3) = 0.8$$"
   ]
  },
  {
   "cell_type": "code",
   "execution_count": 9,
   "id": "8243c464",
   "metadata": {},
   "outputs": [],
   "source": [
    "p_a_b_1 = 0.6\n",
    "p_a_b_2 = 0.7\n",
    "p_a_b_3 = 0.8"
   ]
  },
  {
   "cell_type": "markdown",
   "id": "0a4bc10b",
   "metadata": {},
   "source": [
    "Искомые вероятности можно найти с помощью формулы Байеса:\n",
    "\n",
    "$$P(B_1|A) = \\frac{P(A|B_1) \\cdot P(B_1)}{P(A)}$$, $$P(B_2|A) = \\frac{P(A|B_2) \\cdot P(B_2)}{P(A)}$$, $$P(B_3|A) = \\frac{P(A|B_3) \\cdot P(B_3)}{P(A)}$$"
   ]
  },
  {
   "cell_type": "markdown",
   "id": "0876de66",
   "metadata": {},
   "source": [
    "Найдем $P(A)$ с помощью формулы полной вероятности:\n",
    "\n",
    "$$P(A) = P(B_1) \\cdot P(A | B_1) + P(B_2) \\cdot P(A | B_2) + P(B_3) \\cdot P(A | B_3) = $$\n",
    "\n",
    "$$ 0.6\\cdot \\frac{100}{235} + 0.7\\cdot \\frac{90}{235} + 0.8\\cdot \\frac{45}{235} = 0.67659574$$"
   ]
  },
  {
   "cell_type": "code",
   "execution_count": 10,
   "id": "d7c24c1b",
   "metadata": {},
   "outputs": [
    {
     "data": {
      "text/plain": [
       "0.67659574"
      ]
     },
     "execution_count": 10,
     "metadata": {},
     "output_type": "execute_result"
    }
   ],
   "source": [
    "p_a = p_b_1*p_a_b_1 + p_b_2*p_a_b_2 + p_b_3*p_a_b_3\n",
    "round(p_a, 8)"
   ]
  },
  {
   "cell_type": "markdown",
   "id": "d7c1965c",
   "metadata": {},
   "source": [
    "Находим искомые вероятности:\n",
    "\n",
    "$$P(B_1|A) = \\frac{P(A|B_1) \\cdot P(B_1)}{P(A)} = \\frac{0.6 \\cdot 100}{235 \\cdot 0.67659574} = 0.37735849$$\n",
    "\n",
    "$$P(B_2|A) = \\frac{P(A|B_2) \\cdot P(B_2)}{P(A)} = \\frac{0.7 \\cdot 90}{235 \\cdot 0.67659574} = 0.39622642$$\n",
    "\n",
    "$$P(B_3|A) = \\frac{P(A|B_3) \\cdot P(B_3)}{P(A)} = \\frac{0.8 \\cdot 45}{235 \\cdot 0.67659574} = 0.22641509$$"
   ]
  },
  {
   "cell_type": "code",
   "execution_count": 11,
   "id": "88d2c50f",
   "metadata": {},
   "outputs": [
    {
     "data": {
      "text/plain": [
       "(0.37735849, 0.39622642, 0.22641509)"
      ]
     },
     "execution_count": 11,
     "metadata": {},
     "output_type": "execute_result"
    }
   ],
   "source": [
    "p_b_1_a = round(p_a_b_1*p_b_1/p_a, 8)\n",
    "p_b_2_a = round(p_a_b_2*p_b_2/p_a, 8)\n",
    "p_b_3_a = round(p_a_b_3*p_b_3/p_a, 8)\n",
    "p_b_1_a, p_b_2_a, p_b_3_a"
   ]
  },
  {
   "cell_type": "markdown",
   "id": "1f86f8ee",
   "metadata": {},
   "source": [
    "___Ответ:___ 2. Наиболее вероятно, что студент учится на факультете B."
   ]
  },
  {
   "cell_type": "markdown",
   "id": "8c88d4cc",
   "metadata": {},
   "source": [
    "---"
   ]
  }
 ],
 "metadata": {
  "kernelspec": {
   "display_name": "Python 3 (ipykernel)",
   "language": "python",
   "name": "python3"
  },
  "language_info": {
   "codemirror_mode": {
    "name": "ipython",
    "version": 3
   },
   "file_extension": ".py",
   "mimetype": "text/x-python",
   "name": "python",
   "nbconvert_exporter": "python",
   "pygments_lexer": "ipython3",
   "version": "3.8.8"
  }
 },
 "nbformat": 4,
 "nbformat_minor": 5
}
